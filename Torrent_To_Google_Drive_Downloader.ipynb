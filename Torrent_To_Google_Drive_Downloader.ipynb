{
  "nbformat": 4,
  "nbformat_minor": 0,
  "metadata": {
    "colab": {
      "name": "Torrent To Google Drive Downloader",
      "provenance": [],
      "gpuType": "T4",
      "include_colab_link": true
    },
    "kernelspec": {
      "display_name": "Python 3",
      "name": "python3"
    },
    "accelerator": "GPU",
    "widgets": {
      "application/vnd.jupyter.widget-state+json": {
        "38357700eabe4d368ff27cb9e895063e": {
          "model_module": "@jupyter-widgets/controls",
          "model_name": "FloatSliderModel",
          "model_module_version": "1.5.0",
          "state": {
            "_dom_classes": [],
            "_model_module": "@jupyter-widgets/controls",
            "_model_module_version": "1.5.0",
            "_model_name": "FloatSliderModel",
            "_view_count": null,
            "_view_module": "@jupyter-widgets/controls",
            "_view_module_version": "1.5.0",
            "_view_name": "FloatSliderView",
            "continuous_update": true,
            "description": "Titan 15.832 kB/s downloading",
            "description_tooltip": null,
            "disabled": true,
            "layout": "IPY_MODEL_cde1cfddb51f4a999bb7d6063fde9f67",
            "max": 100,
            "min": 0,
            "orientation": "horizontal",
            "readout": true,
            "readout_format": ".2f",
            "step": 0.01,
            "style": "IPY_MODEL_39ab22be6ccc4945884d6be0126c6417",
            "value": 0.004099999932805076
          }
        },
        "cde1cfddb51f4a999bb7d6063fde9f67": {
          "model_module": "@jupyter-widgets/base",
          "model_name": "LayoutModel",
          "model_module_version": "1.2.0",
          "state": {
            "_model_module": "@jupyter-widgets/base",
            "_model_module_version": "1.2.0",
            "_model_name": "LayoutModel",
            "_view_count": null,
            "_view_module": "@jupyter-widgets/base",
            "_view_module_version": "1.2.0",
            "_view_name": "LayoutView",
            "align_content": null,
            "align_items": null,
            "align_self": null,
            "border": null,
            "bottom": null,
            "display": null,
            "flex": null,
            "flex_flow": null,
            "grid_area": null,
            "grid_auto_columns": null,
            "grid_auto_flow": null,
            "grid_auto_rows": null,
            "grid_column": null,
            "grid_gap": null,
            "grid_row": null,
            "grid_template_areas": null,
            "grid_template_columns": null,
            "grid_template_rows": null,
            "height": null,
            "justify_content": null,
            "justify_items": null,
            "left": null,
            "margin": null,
            "max_height": null,
            "max_width": null,
            "min_height": null,
            "min_width": null,
            "object_fit": null,
            "object_position": null,
            "order": null,
            "overflow": null,
            "overflow_x": null,
            "overflow_y": null,
            "padding": null,
            "right": null,
            "top": null,
            "visibility": null,
            "width": "auto"
          }
        },
        "39ab22be6ccc4945884d6be0126c6417": {
          "model_module": "@jupyter-widgets/controls",
          "model_name": "SliderStyleModel",
          "model_module_version": "1.5.0",
          "state": {
            "_model_module": "@jupyter-widgets/controls",
            "_model_module_version": "1.5.0",
            "_model_name": "SliderStyleModel",
            "_view_count": null,
            "_view_module": "@jupyter-widgets/base",
            "_view_module_version": "1.2.0",
            "_view_name": "StyleView",
            "description_width": "initial",
            "handle_color": null
          }
        }
      }
    }
  },
  "cells": [
    {
      "cell_type": "markdown",
      "metadata": {
        "id": "view-in-github",
        "colab_type": "text"
      },
      "source": [
        "<a href=\"https://colab.research.google.com/github/PP002/Multi-Cloud-Transfer-Tool/blob/main/Torrent_To_Google_Drive_Downloader.ipynb\" target=\"_parent\"><img src=\"https://colab.research.google.com/assets/colab-badge.svg\" alt=\"Open In Colab\"/></a>"
      ]
    },
    {
      "cell_type": "markdown",
      "metadata": {
        "id": "aQuWDmfm9YOi"
      },
      "source": [
        "# Torrent To Google Drive Downloader"
      ]
    },
    {
      "cell_type": "markdown",
      "metadata": {
        "id": "qYk44mBwJf6E"
      },
      "source": [
        "**Important Note:** To get more disk space:\n",
        "> Go to Runtime -> Change Runtime and give GPU as the Hardware Accelerator.  You will get around 384GB to download any torrent you want."
      ]
    },
    {
      "cell_type": "markdown",
      "metadata": {
        "id": "NaFa7M-e9YOr"
      },
      "source": [
        "### Install libtorrent and Initialize Session"
      ]
    },
    {
      "cell_type": "code",
      "metadata": {
        "id": "m6hF0emftx4h",
        "colab": {
          "base_uri": "https://localhost:8080/"
        },
        "outputId": "f1eaf93e-498f-47e9-867b-87c351c60fdb"
      },
      "source": [
        "!apt install python3-libtorrent\n",
        "\n",
        "import libtorrent as lt\n",
        "\n",
        "ses = lt.session()\n",
        "ses.listen_on(6881, 6891)\n",
        "downloads = []"
      ],
      "execution_count": 1,
      "outputs": [
        {
          "output_type": "stream",
          "name": "stdout",
          "text": [
            "Reading package lists... Done\n",
            "Building dependency tree... Done\n",
            "Reading state information... Done\n",
            "The following additional packages will be installed:\n",
            "  libtorrent-rasterbar2.0\n",
            "The following NEW packages will be installed:\n",
            "  libtorrent-rasterbar2.0 python3-libtorrent\n",
            "0 upgraded, 2 newly installed, 0 to remove and 49 not upgraded.\n",
            "Need to get 2,098 kB of archives.\n",
            "After this operation, 7,907 kB of additional disk space will be used.\n",
            "Get:1 http://archive.ubuntu.com/ubuntu jammy/universe amd64 libtorrent-rasterbar2.0 amd64 2.0.5-5 [1,501 kB]\n",
            "Get:2 http://archive.ubuntu.com/ubuntu jammy/universe amd64 python3-libtorrent amd64 2.0.5-5 [597 kB]\n",
            "Fetched 2,098 kB in 1s (1,511 kB/s)\n",
            "Selecting previously unselected package libtorrent-rasterbar2.0:amd64.\n",
            "(Reading database ... 123630 files and directories currently installed.)\n",
            "Preparing to unpack .../libtorrent-rasterbar2.0_2.0.5-5_amd64.deb ...\n",
            "Unpacking libtorrent-rasterbar2.0:amd64 (2.0.5-5) ...\n",
            "Selecting previously unselected package python3-libtorrent.\n",
            "Preparing to unpack .../python3-libtorrent_2.0.5-5_amd64.deb ...\n",
            "Unpacking python3-libtorrent (2.0.5-5) ...\n",
            "Setting up libtorrent-rasterbar2.0:amd64 (2.0.5-5) ...\n",
            "Setting up python3-libtorrent (2.0.5-5) ...\n",
            "Processing triggers for libc-bin (2.35-0ubuntu3.4) ...\n",
            "/sbin/ldconfig.real: /usr/local/lib/libtbbmalloc_proxy.so.2 is not a symbolic link\n",
            "\n",
            "/sbin/ldconfig.real: /usr/local/lib/libhwloc.so.15 is not a symbolic link\n",
            "\n",
            "/sbin/ldconfig.real: /usr/local/lib/libtcm.so.1 is not a symbolic link\n",
            "\n",
            "/sbin/ldconfig.real: /usr/local/lib/libtbbbind.so.3 is not a symbolic link\n",
            "\n",
            "/sbin/ldconfig.real: /usr/local/lib/libumf.so.0 is not a symbolic link\n",
            "\n",
            "/sbin/ldconfig.real: /usr/local/lib/libtbb.so.12 is not a symbolic link\n",
            "\n",
            "/sbin/ldconfig.real: /usr/local/lib/libur_loader.so.0 is not a symbolic link\n",
            "\n",
            "/sbin/ldconfig.real: /usr/local/lib/libur_adapter_level_zero.so.0 is not a symbolic link\n",
            "\n",
            "/sbin/ldconfig.real: /usr/local/lib/libtbbbind_2_0.so.3 is not a symbolic link\n",
            "\n",
            "/sbin/ldconfig.real: /usr/local/lib/libtbbbind_2_5.so.3 is not a symbolic link\n",
            "\n",
            "/sbin/ldconfig.real: /usr/local/lib/libur_adapter_opencl.so.0 is not a symbolic link\n",
            "\n",
            "/sbin/ldconfig.real: /usr/local/lib/libtbbmalloc.so.2 is not a symbolic link\n",
            "\n",
            "/sbin/ldconfig.real: /usr/local/lib/libtcm_debug.so.1 is not a symbolic link\n",
            "\n"
          ]
        },
        {
          "output_type": "stream",
          "name": "stderr",
          "text": [
            "<ipython-input-1-393135217c75>:6: DeprecationWarning: listen_on() is deprecated\n",
            "  ses.listen_on(6881, 6891)\n"
          ]
        }
      ]
    },
    {
      "cell_type": "markdown",
      "metadata": {
        "id": "Uf90U73y9YOj"
      },
      "source": [
        "### Mount Google Drive\n",
        "To stream files we need to mount Google Drive."
      ]
    },
    {
      "cell_type": "code",
      "metadata": {
        "id": "oWM9l2fvtuvO",
        "colab": {
          "base_uri": "https://localhost:8080/"
        },
        "outputId": "a8c83986-6582-466b-89ed-863dc7f48c09"
      },
      "source": [
        "from google.colab import drive\n",
        "\n",
        "drive.mount(\"/content/drive\")"
      ],
      "execution_count": 2,
      "outputs": [
        {
          "output_type": "stream",
          "name": "stdout",
          "text": [
            "Mounted at /content/drive\n"
          ]
        }
      ]
    },
    {
      "cell_type": "markdown",
      "source": [
        "####**Setup & Configure:**"
      ],
      "metadata": {
        "id": "0Ix50jEQDQvo"
      }
    },
    {
      "cell_type": "markdown",
      "source": [
        "**Download setup files & configure the environment:**"
      ],
      "metadata": {
        "id": "7vbqfASX1jHx"
      }
    },
    {
      "cell_type": "markdown",
      "source": [
        "<b>Options:</b><br>\n",
        "`INSTALL_RCLONE_FLAVOR`<b>: Switch Rclone's release branch from stable to beta or vice-versa.</b><br>\n",
        "`FORCE_SETUP`<b>: Forcefully install Rclone by excluding all other dependencies and download them separately. Useful if any dependency (except Rclone) having temporary setup problem.</b><br>\n",
        "`CUSTOM_SH_FILE`:<b> Get custom .sh file from external source (URL or File Path) and execute it to install additional dependecies or requirements with or without normal setup.</b>"
      ],
      "metadata": {
        "id": "l9gOMerpoUYX"
      }
    },
    {
      "cell_type": "code",
      "source": [
        "#@markdown <br><center><img src=\"https://assets.thecaduceus.eu.org/MCT/img/Setup_img.png\" height=\"50\" alt=\"Setup-Logo\"/></center>\n",
        "#@markdown <center><h3><b>Setup & Configure Environment</b></h3></center><br>\n",
        "\n",
        "from sys import exit as end\n",
        "from pathlib import Path, PurePath\n",
        "from time import sleep\n",
        "from requests import get as get_url\n",
        "from urllib.parse import urlparse as validate_url\n",
        "from google.colab import output\n",
        "from json import dumps as dump_json\n",
        "\n",
        "current_version = \"v5.1.0\"\n",
        "do_normal_setup = \"1\"\n",
        "\n",
        "# Check for latest version\n",
        "try:\n",
        "    json_data = get_url(\"https://assets.thecaduceus.eu.org/MCT/json/mct.json\").json()\n",
        "    print(\"Connected with CDN.\")\n",
        "    if current_version == json_data[\"version\"]:\n",
        "        print(f'Great Job! you are using latest version: {json_data[\"version\"]}')\n",
        "    else:\n",
        "        print(f'Oh-No! you are not using latest version and missing out important fixes & features. Latest version is {json_data[\"version\"]}, use latest notebook available here:\\n{json_data[\"notebookLink\"]}')\n",
        "        sleep(10)\n",
        "except Exception as error_code:\n",
        "    end(f'Failed to connect with CDN!\\nTraceback:\\n{error_code}')\n",
        "\n",
        "# Save json data locally\n",
        "with open('mct.json', 'w+') as mct_json:\n",
        "    mct_json.write(dump_json(json_data))\n",
        "\n",
        "# Flavor Flags\n",
        "Stable = \"\"\n",
        "Beta = \"-s beta\"\n",
        "\n",
        "# User Input\n",
        "INSTALL_RCLONE_FLAVOR = Stable #@param [\"Stable\", \"Beta\"] {type:\"raw\"}\n",
        "FORCE_SETUP = True #@param {type:\"boolean\"}\n",
        "CUSTOM_SH_FILE = False #@param {type:\"boolean\"}\n",
        "\n",
        "if CUSTOM_SH_FILE:\n",
        "\n",
        "    Custom_sh_Source = input(\"Provide the Custom Install.sh file source, it can be URL or File Path:\\n\")\n",
        "    use_sudo = input(\"Do you want to execute the .sh file as sudo? 1 = Yes and 0 = No:\\n\")\n",
        "\n",
        "    if use_sudo not in ['0','1']:\n",
        "        end(\"Unable to check for latest version!\")\n",
        "    elif not Custom_sh_Source:\n",
        "        end(\"Custom sh file source can't be blank!\")\n",
        "    elif all([validate_url(Custom_sh_Source).scheme, validate_url(Custom_sh_Source).netloc]):\n",
        "        try:\n",
        "            get_url(Custom_sh_Source)\n",
        "            if use_sudo == '1':\n",
        "                !curl {Custom_sh_Source} | sudo bash\n",
        "                print('Execution completed as sudo!')\n",
        "            elif use_sudo == '0':\n",
        "                !curl {Custom_sh_Source} | bash\n",
        "                print('Execution completed!')\n",
        "        except ConnectionError:\n",
        "            end(\"Unable to connect with given sh file URL.\")\n",
        "        except Exception as error_code:\n",
        "            end(f\"Failed to complete the execution of .sh file!\\nTraceback:\\n{error_code}\")\n",
        "    elif not Path(Custom_sh_Source).exists():\n",
        "        end(\"Provided Custom sh file path not exist!\")\n",
        "    elif not Path(Custom_sh_Source).is_file():\n",
        "        end(\"Provided Custom sh file path should of a particular file not directory/folder.\")\n",
        "    elif not PurePath(Custom_sh_Source).suffix == '.sh':\n",
        "        end(\"File format should be .sh\")\n",
        "    else:\n",
        "        try:\n",
        "            if use_sudo == '1':\n",
        "                !sudo bash \"$Custom_sh_Source\"\n",
        "                print(\"Execution completed as sudo.\")\n",
        "            else:\n",
        "                !bash \"$Custom_sh_Source\"\n",
        "                print(\"Execution complete.\")\n",
        "        except Exception as error_code:\n",
        "            end(f\"Failed to complete the execution of .sh file!\\nTraceback:\\n{error_code}\")\n",
        "\n",
        "\n",
        "    # Ask for Normal Setup\n",
        "    do_normal_setup = input('Do you want to run Normal Setup also? 1 = Yes and 0 = No:\\n')\n",
        "\n",
        "    if do_normal_setup not in ['0','1']:\n",
        "        end(\"Input Error: Value should be 1 or 0\")\n",
        "\n",
        "# Force Setup\n",
        "if FORCE_SETUP:\n",
        "    if Path(\"/content/setup.sh\").exists():\n",
        "        !rm {\"/content/setup.sh\"}\n",
        "    print(\"Starting Force Setup...\")\n",
        "    sleep(4)\n",
        "    !curl \"https://rclone.org/install.sh\" | sudo bash {INSTALL_RCLONE_FLAVOR}\n",
        "\n",
        "if do_normal_setup == '1' and not Path(\"/content/setup.sh\").exists():\n",
        "    try:\n",
        "        get_url(json_data[\"setupFile\"])\n",
        "        !curl {json_data[\"setupFile\"]} | sudo bash {INSTALL_RCLONE_FLAVOR}\n",
        "        !curl {json_data[\"setupFile\"]} > \"/content/setup.sh\"\n",
        "        output.clear()\n",
        "        print(\"Setup completed!\")\n",
        "    except ConnectionError:\n",
        "        print('Unable to get setup file!')\n",
        "    except Exception as error_code:\n",
        "        print(f'Setup instructions seems to be having mistake(s)!\\nTraceback:\\n{error_code}')\n",
        "elif do_normal_setup == '1' and Path(\"/content/setup.sh\").exists():\n",
        "    print(\"Setup file exist and configured already!\")"
      ],
      "metadata": {
        "cellView": "form",
        "id": "VLvNaehXbk59",
        "outputId": "83e2960d-8b87-485c-a83f-3f188e93d478",
        "colab": {
          "base_uri": "https://localhost:8080/"
        }
      },
      "execution_count": null,
      "outputs": [
        {
          "output_type": "stream",
          "name": "stdout",
          "text": [
            "Setup completed!\n"
          ]
        }
      ]
    },
    {
      "cell_type": "markdown",
      "source": [
        "####**Rclone Operations:**"
      ],
      "metadata": {
        "id": "XSp43MsDEMIb"
      }
    },
    {
      "cell_type": "code",
      "source": [
        "# @markdown <br>\n",
        "# @markdown <center><h3><b>Connect To Cloud Accounts</b></h3></center>\n",
        "# @markdown <br><center><img src=\"https://assets.thecaduceus.eu.org/MCT/img/Multiple-Clouds.webp\" height=\"100\" alt=\"Multiple-Clouds\"/></center>\n",
        "# @markdown <center><b>Connect your Cloud Accounts (Rclone remotes) between which you want to transfer Data!</b></center>\n",
        "\n",
        "from sys import exit as end\n",
        "from os import makedirs, system\n",
        "from pathlib import Path, PurePath\n",
        "from re import findall, M\n",
        "\n",
        "if not Path(\"/root/.config/rclone/rclone.conf\").exists():\n",
        "  end('Not Found: rclone.conf [file]')\n",
        "\n",
        "content = open(\"/root/.config/rclone/rclone.conf\").read()\n",
        "avCon = findall(r\"^\\[(.+)\\]$\", content, M)\n",
        "\n",
        "print(\"Available Rclone remotes:\")\n",
        "print(*avCon)\n",
        "remote = input(\"Enter Rclone remote name to continue:\\n\")\n",
        "\n",
        "if remote not in avCon:\n",
        "  end('Not Found: Given remote name not exist in rclone.conf [file]')\n",
        "\n",
        "# User Input\n",
        "CUSTOM_MOUNT_POINT = False  # @param {type:\"boolean\"}\n",
        "CUSTOM_CACHE_DIR = False  # @param {type:\"boolean\"}\n",
        "\n",
        "# Custom Mount Point\n",
        "if CUSTOM_MOUNT_POINT:\n",
        "  Mount_Point = input(\"Enter Custom Mount path:\\n\")\n",
        "  if not Mount_Point:\n",
        "    end(\"Mount Path can't be empty.\")\n",
        "  elif Path(Mount_Point).exists() and Path(Mount_Point).is_dir():\n",
        "      Mount_Point = f\"{PurePath(Mount_Point)}/{remote}\"\n",
        "  elif not Path(Mount_Point).exists():\n",
        "      end('Not Found: Given mount path not found.')\n",
        "  elif not Path(Mount_Point).is_dir():\n",
        "    end('Path Error: Given path is not a valid directory.')\n",
        "else:\n",
        "  Mount_Point = f\"/content/drives/{remote}\"\n",
        "\n",
        "# Custom Cache Directory\n",
        "if CUSTOM_CACHE_DIR:\n",
        "  Cache_dir = input(\"Enter Custom Cache Directory path:\\n\")\n",
        "  if not Cache_dir:\n",
        "    end(\"Cache Directory Path can't be empty.\")\n",
        "  elif Path(Cache_dir).exists() and Path(Cache_dir).is_dir():\n",
        "    Cache_dir = f\"{PurePath(Cache_dir)}/{remote}\"\n",
        "  elif not Path(Cache_dir).exists():\n",
        "    end('Not Found: Given mount path not found.')\n",
        "  elif not Path(Cache_dir).exists():\n",
        "    end('Path Error: Give path is not a valid directory.')\n",
        "else:\n",
        "  Cache_dir = \"/content/temp/Rclone\"\n",
        "\n",
        "Action = input(\"Select Action: 1 = Mount and 0 = Unmount:\\n\")\n",
        "\n",
        "if Action not in ['0','1']:\n",
        "  end(\"Input Error: Value should be 1 or 0.\")\n",
        "elif Action == '1':\n",
        "  makedirs(Mount_Point, exist_ok=True)\n",
        "  !rclone mount {remote}: {Mount_Point} --user-agent 'Mozilla' --buffer-size 256M --transfers 10 --vfs-cache-mode minimal --vfs-read-chunk-size 500M --vfs-cache-max-size 50G --vfs-cache-max-age 0h0m1s --vfs-cache-poll-interval 0m1s --cache-dir {Cache_dir} --allow-other --daemon\n",
        "  print(f'Mounted: {Mount_Point}') if Path(Mount_Point).exists() else print(f\"Mount Error: Unable to mount {Mount_Point}\")\n",
        "elif Action == '0' and system(f\"fusermount -uz {Mount_Point}\") == 0:\n",
        "  !rm -r {Mount_Point}\n",
        "else:\n",
        "  system(f\"fusermount -uz {Mount_Point}\")"
      ],
      "metadata": {
        "cellView": "form",
        "id": "Rgu4rSMi2NMr"
      },
      "execution_count": null,
      "outputs": []
    },
    {
      "cell_type": "markdown",
      "source": [
        "**Create/Edit/View/Delete your Rclone Config file:<br>``UPLOAD_CONFIG_FILE`` : Upload your existing Rclone config file. It will be placed in its correct location automatically.<br>``SAVE_TO_MYDRIVE`` : Save Rclone config file in Google Drive.<br>``DOWNLOAD_CONFIG`` : Download Rclone config file in your Device.**\n"
      ],
      "metadata": {
        "id": "GE1KvRAg2db5"
      }
    },
    {
      "cell_type": "code",
      "execution_count": null,
      "metadata": {
        "id": "UdtGnf8hudAN",
        "cellView": "form",
        "collapsed": true
      },
      "outputs": [],
      "source": [
        "#@markdown <br><center><img src=\"https://assets.thecaduceus.eu.org/MCT/img/rclone_logo.png\" height=\"50\" alt=\"Rclone-Logo\"/></center>\n",
        "#@markdown <center><h3><b>Create/Edit/Delete Rclone Config File</b></h3></center><br>\n",
        "\n",
        "from google.colab import files\n",
        "from sys import exit as end\n",
        "from pathlib import Path, PurePath\n",
        "\n",
        "# Where user mounted Google Drive?\n",
        "try:\n",
        "  CMP = PurePath(Custom_Mount_Path)\n",
        "except NameError:\n",
        "  CMP = '/content/drive'\n",
        "\n",
        "# Paths\n",
        "DRIVE_CONFIG_DIR = f\"{CMP}/MyDrive/MCT-Config\"\n",
        "\n",
        "# Check for Setup & Google Account\n",
        "if not Path(\"/content/setup.sh\").exists():\n",
        "  end('Please download Setup first!')\n",
        "elif not Path(f'{CMP}').exists():\n",
        "  end('Not Found: Google Drive is not connected!')\n",
        "elif not Path(DRIVE_CONFIG_DIR).exists():\n",
        "  !rclone mkdir {DRIVE_CONFIG_DIR}\n",
        "  print('Created: MCT-Config [folder] -> MyDrive')\n",
        "\n",
        "#@markdown ****\n",
        "UPLOAD_CONFIG_FILE = False #@param {type:\"boolean\"}\n",
        "SAVE_TO_MYDRIVE = True #@param {type:\"boolean\"}\n",
        "DOWNLOAD_CONFIG = True #@param {type:\"boolean\"}\n",
        "\n",
        "if UPLOAD_CONFIG_FILE and SAVE_TO_MYDRIVE and DOWNLOAD_CONFIG:\n",
        "  # Initiate Upload Request\n",
        "  print('Request: Initiate upload -> rclone.conf [file]')\n",
        "  file = files.upload()\n",
        "  if list(file.keys())[0] != 'rclone.conf':\n",
        "    end('File Error: File is not rclone.conf')\n",
        "  elif not Path(\"/root/.config/rclone/\").exists():\n",
        "    !rclone mkdir \"/root/.config/rclone/\"\n",
        "  !rclone copy \"/content/rclone.conf\" \"/root/.config/rclone/\"\n",
        "  print('Saved: rclone.conf [file] -> Runtime')\n",
        "  # Rclone configuration\n",
        "  !rclone config\n",
        "  # Save to Google Drive\n",
        "  !rclone copy \"/content/rclone.conf\" {DRIVE_CONFIG_DIR}\n",
        "  print('Saved: rclone.conf [file] -> MyDrive')\n",
        "  # Initiate Download Request\n",
        "  files.download(\"/root/.config/rclone/\")\n",
        "  print('Request: Initiated download -> rclone.conf [file]')\n",
        "elif UPLOAD_CONFIG_FILE and SAVE_TO_MYDRIVE:\n",
        "  # Initiate Upload Request\n",
        "  print('Request: Initiate upload -> rclone.conf [file]')\n",
        "  file = files.upload()\n",
        "  if list(file.keys())[0] != 'rclone.conf':\n",
        "    end('File Error: File is not rclone.conf')\n",
        "  elif not Path('/root/.config/rclone/').exists():\n",
        "    !rclone mkdir \"/root/.config/rclone/\"\n",
        "  !rclone copy \"/content/rclone.conf\" \"/root/.config/rclone/\"\n",
        "  print('Saved: rclone.conf [file] -> Runtime')\n",
        "  # Rclone configuration\n",
        "  !rclone config\n",
        "  # Save to Google Drive\n",
        "  !rclone copy \"/content/rclone.conf\" {DRIVE_CONFIG_DIR}\n",
        "  print('Saved: rclone.conf [file] -> MyDrive')\n",
        "elif UPLOAD_CONFIG_FILE:\n",
        "  # Initiate Upload Request\n",
        "  print('Request: Initiate Upload -> rclone.conf [file]')\n",
        "  file = files.upload()\n",
        "  if list(file.keys())[0] != 'rclone.conf':\n",
        "    end('File Error: File is not rclone.conf')\n",
        "  elif not Path('/root/.config/rclone/').exists():\n",
        "    !rclone mkdir \"/root/.config/rclone/\"\n",
        "  print('[WARNING] -> No saving option selected, progress may lose.')\n",
        "  # Rclone configuration\n",
        "  !rclone config\n",
        "elif SAVE_TO_MYDRIVE:\n",
        "  # Rclone configuration\n",
        "  !rclone config\n",
        "  # Save to Google Drive\n",
        "  !rclone copy \"/content/rclone.conf\" {DRIVE_CONFIG_DIR}\n",
        "  print('Saved: rclone.conf [file] -> MyDrive')\n",
        "elif DOWNLOAD_CONFIG:\n",
        "  # Rclone configuration\n",
        "  !rclone config\n",
        "  # Initiate Download Request\n",
        "  files.download(\"/root/.config/rclone/\")\n",
        "  print('Request: Initiated download -> rclone.conf [file]')\n",
        "else:\n",
        "  print('[WARNING] -> No saving option selected, progress may lose.')\n",
        "  !rclone config"
      ]
    },
    {
      "cell_type": "markdown",
      "source": [
        "**Mount Rclone remotes on this runtime:**"
      ],
      "metadata": {
        "id": "yvyL2d3y56My"
      }
    },
    {
      "cell_type": "markdown",
      "source": [
        "**Options:**<br>\n",
        "`CUSTOM_MOUNT_POINT`**: Set custom mount point.**<br>\n",
        "`CUSTOM_CACHE_DIR`**: Set custom cache directory.**"
      ],
      "metadata": {
        "id": "tiN1FZCZchnO"
      }
    },
    {
      "cell_type": "markdown",
      "source": [
        "**Using various Rclone modes, flags & other options:**\n",
        "\n"
      ],
      "metadata": {
        "id": "hlnd4GxV7Fux"
      }
    },
    {
      "cell_type": "markdown",
      "source": [
        "**Options:**<br>\n",
        "`DRY_RUN`**: Check given source & destination.**<br>\n",
        "`EMAIL_NOTIFICATION`**: Receive email notification once task is completed.**<br>\n",
        "`LOGS`**: Send log file with email notification.**"
      ],
      "metadata": {
        "id": "gICeYCbSqdQx"
      }
    },
    {
      "cell_type": "markdown",
      "source": [
        "**Delete your Files/Folder/Directory from below:<br>``delete`` Delete the content of folder or single file.<br>``purge`` Delete whole directory.<br>``rmdir`` Completely delete the given path.<br>``rmdirs`` Remove any empty directories under the path.**"
      ],
      "metadata": {
        "id": "MszqFrsLw8cD"
      }
    },
    {
      "cell_type": "markdown",
      "metadata": {
        "id": "R_1XuuIf9YOn"
      },
      "source": [
        "### Add From Torrent File\n",
        "You can run this cell to add more files as many times as you want"
      ]
    },
    {
      "cell_type": "code",
      "metadata": {
        "id": "0et2A6N3udA0",
        "colab": {
          "base_uri": "https://localhost:8080/",
          "height": 75
        },
        "outputId": "95f4544e-79ba-42f2-a567-648e280e458f"
      },
      "source": [
        "from google.colab import files\n",
        "\n",
        "source = files.upload()\n",
        "params = {\n",
        "    \"save_path\": \"/content/drive/My Drive/Torrent\",\n",
        "    \"ti\": lt.torrent_info(list(source.keys())[0]),\n",
        "}\n",
        "downloads.append(ses.add_torrent(params))"
      ],
      "execution_count": 3,
      "outputs": [
        {
          "output_type": "display_data",
          "data": {
            "text/plain": [
              "<IPython.core.display.HTML object>"
            ],
            "text/html": [
              "\n",
              "     <input type=\"file\" id=\"files-3a354560-db7b-4a1f-aa30-ffb981a9b94a\" name=\"files[]\" multiple disabled\n",
              "        style=\"border:none\" />\n",
              "     <output id=\"result-3a354560-db7b-4a1f-aa30-ffb981a9b94a\">\n",
              "      Upload widget is only available when the cell has been executed in the\n",
              "      current browser session. Please rerun this cell to enable.\n",
              "      </output>\n",
              "      <script>// Copyright 2017 Google LLC\n",
              "//\n",
              "// Licensed under the Apache License, Version 2.0 (the \"License\");\n",
              "// you may not use this file except in compliance with the License.\n",
              "// You may obtain a copy of the License at\n",
              "//\n",
              "//      http://www.apache.org/licenses/LICENSE-2.0\n",
              "//\n",
              "// Unless required by applicable law or agreed to in writing, software\n",
              "// distributed under the License is distributed on an \"AS IS\" BASIS,\n",
              "// WITHOUT WARRANTIES OR CONDITIONS OF ANY KIND, either express or implied.\n",
              "// See the License for the specific language governing permissions and\n",
              "// limitations under the License.\n",
              "\n",
              "/**\n",
              " * @fileoverview Helpers for google.colab Python module.\n",
              " */\n",
              "(function(scope) {\n",
              "function span(text, styleAttributes = {}) {\n",
              "  const element = document.createElement('span');\n",
              "  element.textContent = text;\n",
              "  for (const key of Object.keys(styleAttributes)) {\n",
              "    element.style[key] = styleAttributes[key];\n",
              "  }\n",
              "  return element;\n",
              "}\n",
              "\n",
              "// Max number of bytes which will be uploaded at a time.\n",
              "const MAX_PAYLOAD_SIZE = 100 * 1024;\n",
              "\n",
              "function _uploadFiles(inputId, outputId) {\n",
              "  const steps = uploadFilesStep(inputId, outputId);\n",
              "  const outputElement = document.getElementById(outputId);\n",
              "  // Cache steps on the outputElement to make it available for the next call\n",
              "  // to uploadFilesContinue from Python.\n",
              "  outputElement.steps = steps;\n",
              "\n",
              "  return _uploadFilesContinue(outputId);\n",
              "}\n",
              "\n",
              "// This is roughly an async generator (not supported in the browser yet),\n",
              "// where there are multiple asynchronous steps and the Python side is going\n",
              "// to poll for completion of each step.\n",
              "// This uses a Promise to block the python side on completion of each step,\n",
              "// then passes the result of the previous step as the input to the next step.\n",
              "function _uploadFilesContinue(outputId) {\n",
              "  const outputElement = document.getElementById(outputId);\n",
              "  const steps = outputElement.steps;\n",
              "\n",
              "  const next = steps.next(outputElement.lastPromiseValue);\n",
              "  return Promise.resolve(next.value.promise).then((value) => {\n",
              "    // Cache the last promise value to make it available to the next\n",
              "    // step of the generator.\n",
              "    outputElement.lastPromiseValue = value;\n",
              "    return next.value.response;\n",
              "  });\n",
              "}\n",
              "\n",
              "/**\n",
              " * Generator function which is called between each async step of the upload\n",
              " * process.\n",
              " * @param {string} inputId Element ID of the input file picker element.\n",
              " * @param {string} outputId Element ID of the output display.\n",
              " * @return {!Iterable<!Object>} Iterable of next steps.\n",
              " */\n",
              "function* uploadFilesStep(inputId, outputId) {\n",
              "  const inputElement = document.getElementById(inputId);\n",
              "  inputElement.disabled = false;\n",
              "\n",
              "  const outputElement = document.getElementById(outputId);\n",
              "  outputElement.innerHTML = '';\n",
              "\n",
              "  const pickedPromise = new Promise((resolve) => {\n",
              "    inputElement.addEventListener('change', (e) => {\n",
              "      resolve(e.target.files);\n",
              "    });\n",
              "  });\n",
              "\n",
              "  const cancel = document.createElement('button');\n",
              "  inputElement.parentElement.appendChild(cancel);\n",
              "  cancel.textContent = 'Cancel upload';\n",
              "  const cancelPromise = new Promise((resolve) => {\n",
              "    cancel.onclick = () => {\n",
              "      resolve(null);\n",
              "    };\n",
              "  });\n",
              "\n",
              "  // Wait for the user to pick the files.\n",
              "  const files = yield {\n",
              "    promise: Promise.race([pickedPromise, cancelPromise]),\n",
              "    response: {\n",
              "      action: 'starting',\n",
              "    }\n",
              "  };\n",
              "\n",
              "  cancel.remove();\n",
              "\n",
              "  // Disable the input element since further picks are not allowed.\n",
              "  inputElement.disabled = true;\n",
              "\n",
              "  if (!files) {\n",
              "    return {\n",
              "      response: {\n",
              "        action: 'complete',\n",
              "      }\n",
              "    };\n",
              "  }\n",
              "\n",
              "  for (const file of files) {\n",
              "    const li = document.createElement('li');\n",
              "    li.append(span(file.name, {fontWeight: 'bold'}));\n",
              "    li.append(span(\n",
              "        `(${file.type || 'n/a'}) - ${file.size} bytes, ` +\n",
              "        `last modified: ${\n",
              "            file.lastModifiedDate ? file.lastModifiedDate.toLocaleDateString() :\n",
              "                                    'n/a'} - `));\n",
              "    const percent = span('0% done');\n",
              "    li.appendChild(percent);\n",
              "\n",
              "    outputElement.appendChild(li);\n",
              "\n",
              "    const fileDataPromise = new Promise((resolve) => {\n",
              "      const reader = new FileReader();\n",
              "      reader.onload = (e) => {\n",
              "        resolve(e.target.result);\n",
              "      };\n",
              "      reader.readAsArrayBuffer(file);\n",
              "    });\n",
              "    // Wait for the data to be ready.\n",
              "    let fileData = yield {\n",
              "      promise: fileDataPromise,\n",
              "      response: {\n",
              "        action: 'continue',\n",
              "      }\n",
              "    };\n",
              "\n",
              "    // Use a chunked sending to avoid message size limits. See b/62115660.\n",
              "    let position = 0;\n",
              "    do {\n",
              "      const length = Math.min(fileData.byteLength - position, MAX_PAYLOAD_SIZE);\n",
              "      const chunk = new Uint8Array(fileData, position, length);\n",
              "      position += length;\n",
              "\n",
              "      const base64 = btoa(String.fromCharCode.apply(null, chunk));\n",
              "      yield {\n",
              "        response: {\n",
              "          action: 'append',\n",
              "          file: file.name,\n",
              "          data: base64,\n",
              "        },\n",
              "      };\n",
              "\n",
              "      let percentDone = fileData.byteLength === 0 ?\n",
              "          100 :\n",
              "          Math.round((position / fileData.byteLength) * 100);\n",
              "      percent.textContent = `${percentDone}% done`;\n",
              "\n",
              "    } while (position < fileData.byteLength);\n",
              "  }\n",
              "\n",
              "  // All done.\n",
              "  yield {\n",
              "    response: {\n",
              "      action: 'complete',\n",
              "    }\n",
              "  };\n",
              "}\n",
              "\n",
              "scope.google = scope.google || {};\n",
              "scope.google.colab = scope.google.colab || {};\n",
              "scope.google.colab._files = {\n",
              "  _uploadFiles,\n",
              "  _uploadFilesContinue,\n",
              "};\n",
              "})(self);\n",
              "</script> "
            ]
          },
          "metadata": {}
        },
        {
          "output_type": "stream",
          "name": "stdout",
          "text": [
            "Saving TitanMen collection.torrent to TitanMen collection.torrent\n"
          ]
        }
      ]
    },
    {
      "cell_type": "markdown",
      "metadata": {
        "id": "WD-6M6eZyzmj"
      },
      "source": [
        "### Add From Magnet Link\n",
        "You can run this cell to add more files as many times as you want"
      ]
    },
    {
      "cell_type": "code",
      "metadata": {
        "id": "Cwi1GMlxy3te"
      },
      "source": [
        "params = {\"save_path\": \"/content/drive/My Drive/Torrent\"}\n",
        "\n",
        "while True:\n",
        "    magnet_link = input(\"Enter Magnet Link Or Type Exit: \")\n",
        "    if magnet_link.lower() == \"exit\":\n",
        "        break\n",
        "    downloads.append(\n",
        "        lt.add_magnet_uri(ses, magnet_link, params)\n",
        "    )\n"
      ],
      "execution_count": null,
      "outputs": []
    },
    {
      "cell_type": "markdown",
      "metadata": {
        "id": "m-a1CUP39YOu"
      },
      "source": [
        "### Start Download\n",
        "Source: https://stackoverflow.com/a/5494823/7957705 and [#3 issue](https://github.com/FKLC/Torrent-To-Google-Drive-Downloader/issues/3) which refers to this [stackoverflow question](https://stackoverflow.com/a/6053350/7957705)"
      ]
    },
    {
      "cell_type": "code",
      "metadata": {
        "id": "DBNoYYoSuDBT",
        "colab": {
          "base_uri": "https://localhost:8080/",
          "height": 277,
          "referenced_widgets": [
            "38357700eabe4d368ff27cb9e895063e",
            "cde1cfddb51f4a999bb7d6063fde9f67",
            "39ab22be6ccc4945884d6be0126c6417"
          ]
        },
        "outputId": "b7766612-a1d5-4660-b707-f1df34d44d18"
      },
      "source": [
        "import time\n",
        "from IPython.display import display\n",
        "import ipywidgets as widgets\n",
        "\n",
        "state_str = [\n",
        "    \"queued\",\n",
        "    \"checking\",\n",
        "    \"downloading metadata\",\n",
        "    \"downloading\",\n",
        "    \"finished\",\n",
        "    \"seeding\",\n",
        "    \"allocating\",\n",
        "    \"checking fastresume\",\n",
        "]\n",
        "\n",
        "layout = widgets.Layout(width=\"auto\")\n",
        "style = {\"description_width\": \"initial\"}\n",
        "download_bars = [\n",
        "    widgets.FloatSlider(\n",
        "        step=0.01, disabled=True, layout=layout, style=style\n",
        "    )\n",
        "    for _ in downloads\n",
        "]\n",
        "display(*download_bars)\n",
        "\n",
        "while downloads:\n",
        "    next_shift = 0\n",
        "    for index, download in enumerate(downloads[:]):\n",
        "        bar = download_bars[index + next_shift]\n",
        "        if not download.is_seed():\n",
        "            s = download.status()\n",
        "\n",
        "            bar.description = \" \".join(\n",
        "                [\n",
        "                    download.name(),\n",
        "                    str(s.download_rate / 1000),\n",
        "                    \"kB/s\",\n",
        "                    state_str[s.state],\n",
        "                ]\n",
        "            )\n",
        "            bar.value = s.progress * 100\n",
        "        else:\n",
        "            next_shift -= 1\n",
        "            ses.remove_torrent(download)\n",
        "            downloads.remove(download)\n",
        "            bar.close() # Seems to be not working in Colab (see https://github.com/googlecolab/colabtools/issues/726#issue-486731758)\n",
        "            download_bars.remove(bar)\n",
        "            print(download.name(), \"complete\")\n",
        "    time.sleep(1)\n"
      ],
      "execution_count": 4,
      "outputs": [
        {
          "output_type": "display_data",
          "data": {
            "text/plain": [
              "FloatSlider(value=0.0, disabled=True, layout=Layout(width='auto'), step=0.01, style=SliderStyle(description_wi…"
            ],
            "application/vnd.jupyter.widget-view+json": {
              "version_major": 2,
              "version_minor": 0,
              "model_id": "38357700eabe4d368ff27cb9e895063e"
            }
          },
          "metadata": {}
        },
        {
          "output_type": "stream",
          "name": "stderr",
          "text": [
            "<ipython-input-4-4fb61c2df196>:30: DeprecationWarning: is_seed() is deprecated\n",
            "  if not download.is_seed():\n",
            "<ipython-input-4-4fb61c2df196>:35: DeprecationWarning: name() is deprecated\n",
            "  download.name(),\n"
          ]
        },
        {
          "output_type": "error",
          "ename": "KeyboardInterrupt",
          "evalue": "",
          "traceback": [
            "\u001b[0;31m---------------------------------------------------------------------------\u001b[0m",
            "\u001b[0;31mKeyboardInterrupt\u001b[0m                         Traceback (most recent call last)",
            "\u001b[0;32m<ipython-input-4-4fb61c2df196>\u001b[0m in \u001b[0;36m<cell line: 26>\u001b[0;34m()\u001b[0m\n\u001b[1;32m     47\u001b[0m             \u001b[0mdownload_bars\u001b[0m\u001b[0;34m.\u001b[0m\u001b[0mremove\u001b[0m\u001b[0;34m(\u001b[0m\u001b[0mbar\u001b[0m\u001b[0;34m)\u001b[0m\u001b[0;34m\u001b[0m\u001b[0;34m\u001b[0m\u001b[0m\n\u001b[1;32m     48\u001b[0m             \u001b[0mprint\u001b[0m\u001b[0;34m(\u001b[0m\u001b[0mdownload\u001b[0m\u001b[0;34m.\u001b[0m\u001b[0mname\u001b[0m\u001b[0;34m(\u001b[0m\u001b[0;34m)\u001b[0m\u001b[0;34m,\u001b[0m \u001b[0;34m\"complete\"\u001b[0m\u001b[0;34m)\u001b[0m\u001b[0;34m\u001b[0m\u001b[0;34m\u001b[0m\u001b[0m\n\u001b[0;32m---> 49\u001b[0;31m     \u001b[0mtime\u001b[0m\u001b[0;34m.\u001b[0m\u001b[0msleep\u001b[0m\u001b[0;34m(\u001b[0m\u001b[0;36m1\u001b[0m\u001b[0;34m)\u001b[0m\u001b[0;34m\u001b[0m\u001b[0;34m\u001b[0m\u001b[0m\n\u001b[0m",
            "\u001b[0;31mKeyboardInterrupt\u001b[0m: "
          ]
        }
      ]
    },
    {
      "cell_type": "code",
      "source": [
        "# @title 默认标题文本 {\"display-mode\":\"form\"}\n",
        "# @markdown <br><center><img src=\"https://assets.thecaduceus.eu.org/MCT/img/google-cloud-logo.png\" height=\"150\" alt=\"Google-Cloud-Logo\"/></center>\n",
        "# @markdown <center><h3><b>Using Service Accounts</b></h3></center><br>\n",
        "\n",
        "from sys import exit as end\n",
        "from pathlib import Path, PurePath\n",
        "from google.colab import files\n",
        "\n",
        "# Where user mounted Google Drive?\n",
        "try:\n",
        "    CMP = PurePath(Custom_Mount_Path)\n",
        "except NameError:\n",
        "    CMP = '/content/drive'\n",
        "\n",
        "# Paths\n",
        "ROOT = \"/content/\"\n",
        "DRIVE_CONFIG_DIR = f\"{CMP}/MyDrive/MCT-Config/\"\n",
        "ROOT_ACCOUNTS_ZIP = \"/content/accounts.zip\"\n",
        "\n",
        "# Check for Setup & Google Account\n",
        "if not Path(\"/content/setup.sh\").exists():\n",
        "    end('Please download Setup first!')\n",
        "elif not Path(CMP).exists():\n",
        "    end('Not Found: Google Drive is not connected!')\n",
        "elif not Path(DRIVE_CONFIG_DIR).exists():\n",
        "    !rclone mkdir \"$DRIVE_CONFIG_DIR\"\n",
        "    print('Created: MCT-Config [folder] -> MyDrive')\n",
        "\n",
        "# Configure Options\n",
        "UPLOAD_SERVICE_ACCOUNTS = False  # @param {type:\"boolean\"}\n",
        "SAVE_TO_MYDRIVE = True  # @param {type:\"boolean\"}\n",
        "\n",
        "if UPLOAD_SERVICE_ACCOUNTS and SAVE_TO_MYDRIVE:\n",
        "    print('Upload accounts.zip:\\n')\n",
        "    file = files.upload()\n",
        "    if list(file.keys())[0] == 'accounts.zip':\n",
        "        !rclone copy \"$ROOT_ACCOUNTS_ZIP\" \"$DRIVE_CONFIG_DIR\"\n",
        "        !unzip \"$ROOT_ACCOUNTS_ZIP\" -d \"$ROOT\"\n",
        "        print('Uploaded & Configured Service Accounts! (2)')\n",
        "    else:\n",
        "        end('File Error: File is not accounts.zip')\n",
        "\n",
        "elif not UPLOAD_SERVICE_ACCOUNTS and not SAVE_TO_MYDRIVE:\n",
        "    print('Task Error: No Task to perform :)')\n",
        "\n",
        "elif UPLOAD_SERVICE_ACCOUNTS:\n",
        "    print('Upload accounts.zip:\\n')\n",
        "    file = files.upload()\n",
        "    if list(file.keys())[0] == 'accounts.zip':\n",
        "        !unzip \"$ROOT_ACCOUNTS_ZIP\" -d \"$ROOT\"\n",
        "        print('Uploaded & Configured Service Accounts! (1)')\n",
        "    else:\n",
        "        end('File Error: File is not accounts.zip')\n",
        "\n",
        "elif Path(ROOT_ACCOUNTS_ZIP).exists():\n",
        "    print('Found: accounts.zip [file]')\n",
        "    !unzip \"$ROOT_ACCOUNTS_ZIP\" -d \"$ROOT\"\n",
        "    print('Configured Service Accounts!')\n",
        "\n",
        "else:\n",
        "    print('Not Found: accounts.zip [file]')"
      ],
      "metadata": {
        "id": "ingFqsgq22tB"
      },
      "execution_count": null,
      "outputs": []
    }
  ]
}